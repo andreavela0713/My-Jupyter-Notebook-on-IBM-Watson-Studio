{
 "cells": [
  {
   "cell_type": "markdown",
   "id": "f7c07929-0102-4e90-8a4a-7e211ba8471c",
   "metadata": {},
   "source": [
    "# My Jupyter Notebook on IBM Watson Studio"
   ]
  },
  {
   "cell_type": "markdown",
   "id": "efdf5086-1dfc-4062-8193-8e5b9042ba44",
   "metadata": {},
   "source": [
    "**Andrea Velazquez**\n",
    "\n",
    "Data Scientist\n"
   ]
  },
  {
   "cell_type": "markdown",
   "id": "6f44a91b-fc35-4d0c-921c-0eb36fe5f086",
   "metadata": {},
   "source": [
    "*I am interested in data science becasue I want to work in a carreer where I can showcase my curiosity, analitical nature and portray information to people in simple terms to help them reach great success.*"
   ]
  },
  {
   "cell_type": "markdown",
   "id": "8d7e6e40-6ac3-45c2-b145-894f7e1f3149",
   "metadata": {},
   "source": [
    "### The code in cell 5 will compute a simple equation.\n"
   ]
  },
  {
   "cell_type": "code",
   "execution_count": 1,
   "id": "369029e9-df3d-4414-aca4-2385ed2bda58",
   "metadata": {},
   "outputs": [
    {
     "data": {
      "text/plain": [
       "35"
      ]
     },
     "execution_count": 1,
     "metadata": {},
     "output_type": "execute_result"
    }
   ],
   "source": [
    "23+12"
   ]
  },
  {
   "cell_type": "markdown",
   "id": "35768b71-0ddd-4fe3-8b10-7bc34845b565",
   "metadata": {},
   "source": [
    "<dl>\n",
    "<dt>HTML</dt>\n",
    "<dd>Is more challenging to use.</dd>\n",
    "\n",
    "<dt>Learning codes<dt/>\n",
    "    <dd>will take a lot of:</dd>\n",
    "<dl>\n",
    "    \n",
    "1.~patients~  \n",
    "2.*persaverance*  \n",
    "3.`memorization`  "
   ]
  }
 ],
 "metadata": {
  "kernelspec": {
   "display_name": "Python",
   "language": "python",
   "name": "conda-env-python-py"
  },
  "language_info": {
   "codemirror_mode": {
    "name": "ipython",
    "version": 3
   },
   "file_extension": ".py",
   "mimetype": "text/x-python",
   "name": "python",
   "nbconvert_exporter": "python",
   "pygments_lexer": "ipython3",
   "version": "3.7.12"
  }
 },
 "nbformat": 4,
 "nbformat_minor": 5
}
